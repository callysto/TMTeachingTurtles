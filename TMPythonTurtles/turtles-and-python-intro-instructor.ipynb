{
 "cells": [
  {
   "cell_type": "markdown",
   "metadata": {},
   "source": [
    "![Callysto.ca Banner](https://github.com/callysto/curriculum-notebooks/blob/master/callysto-notebook-banner-top.jpg?raw=true)"
   ]
  },
  {
   "cell_type": "markdown",
   "metadata": {},
   "source": [
    "# Turtle Commands\n",
    "\n",
    "`t.pendown()` or `t.penup()`\n",
    "* For drawing lines or not \n",
    "\n",
    "`t.speed(integer)`\n",
    "* Speed of your turtle, 1-10 (hint set your speed to 10) \n",
    "\n",
    "`t.right(degrees)` or `t.left(degrees)`\n",
    "* Turn turtle left or right by some degree \n",
    "\n",
    "`t.forward(units)` or `t.backward(units)`\n",
    "* Move your turtle forward or backward (units in pixels) \n",
    "\n",
    "`t.pencolor(“color”)`\n",
    "* Color of your turtle’s line, e.g. “blue” \n",
    "\n",
    "`t.circle(r, degrees)`\n",
    "* Have turtle draw a piece of a circle of radius r, some number of degrees \n"
   ]
  },
  {
   "cell_type": "markdown",
   "metadata": {},
   "source": [
    "## Can you get your Turtle to draw this house?"
   ]
  },
  {
   "cell_type": "markdown",
   "metadata": {},
   "source": [
    "![house](images/turtle-house.png)"
   ]
  },
  {
   "cell_type": "code",
   "execution_count": null,
   "metadata": {
    "collapsed": true
   },
   "outputs": [],
   "source": [
    "from mobilechelonian import Turtle #import the Turtle module from the mobilechelonian library\n",
    "import math #this library will come in handy when making the roof, hint math.sqrt()\n",
    "t = Turtle()\n",
    "t.speed(10)\n",
    "### enter your code below, use the turtle commands above such as t.forward(100) and t.right(90)\n",
    "t.forward(100) #hint\n",
    "t.right(90)\n",
    "t.forward(100) #hint\n",
    "t.right(90)\n",
    "t.forward(100) #hint\n",
    "t.right(90)\n",
    "t.forward(100) #hint\n",
    "t.right(90)\n",
    "t.right(-45)\n",
    "t.forward(100/math.sqrt(2)) #remember your 45-45-90 triangle formula!\n",
    "t.right(90)\n",
    "t.forward(100/math.sqrt(2)) #remember your 45-45-90 triangle formula!"
   ]
  },
  {
   "cell_type": "markdown",
   "metadata": {},
   "source": [
    "## Now let's try and draw this flower with our Turtle"
   ]
  },
  {
   "cell_type": "markdown",
   "metadata": {},
   "source": [
    "![flower](images/turtle-flower.png)"
   ]
  },
  {
   "cell_type": "markdown",
   "metadata": {},
   "source": [
    "### Let's start by drawing a box efficiently with a `for` loop"
   ]
  },
  {
   "cell_type": "code",
   "execution_count": null,
   "metadata": {
    "collapsed": true
   },
   "outputs": [],
   "source": [
    "from mobilechelonian import Turtle\n",
    "t = Turtle()\n",
    "t.speed(10)\n",
    "\n",
    "for i in range(4): #enter a value for range, how many times do we need to repeat to draw a box?\n",
    "    t.forward(100) #enter a unit value\n",
    "    t.right(90) #enter a degree value"
   ]
  },
  {
   "cell_type": "markdown",
   "metadata": {},
   "source": [
    "### Let's draw a box with a function"
   ]
  },
  {
   "cell_type": "code",
   "execution_count": null,
   "metadata": {
    "collapsed": true
   },
   "outputs": [],
   "source": [
    "from mobilechelonian import Turtle\n",
    "t = Turtle()\n",
    "t.speed(10)\n",
    "\n",
    "def box(units): #def means define function, in this case our function is called box\n",
    "    for i in range(4): #enter a value for range. hint: how many times do we need to repeat to draw a box?  \n",
    "        t.forward(units)\n",
    "        t.right(90) #enter a degree value\n",
    "        \n",
    "box(100) #enter a unit value for our box function. hint: how many units did we use above?"
   ]
  },
  {
   "cell_type": "markdown",
   "metadata": {},
   "source": [
    "### Now let's draw a flower with `def` and `for` loops"
   ]
  },
  {
   "cell_type": "code",
   "execution_count": null,
   "metadata": {
    "collapsed": true
   },
   "outputs": [],
   "source": [
    "from mobilechelonian import Turtle\n",
    "t = Turtle()\n",
    "t.speed(10)\n",
    "\n",
    "def box(units):\n",
    "    for i in range(4): #enter a value for range\n",
    "        t.forward(units)\n",
    "        t.right(90) #enter a degree value\n",
    "\n",
    "for i in range(18): #360 degrees/20 degrees per iteration = 18 iterations\n",
    "    box(100) #enter a unit value\n",
    "    t.right(20)"
   ]
  },
  {
   "cell_type": "markdown",
   "metadata": {},
   "source": [
    "### Now let's add colours to our flower using a `list`"
   ]
  },
  {
   "cell_type": "code",
   "execution_count": null,
   "metadata": {
    "collapsed": true
   },
   "outputs": [],
   "source": [
    "colours = [\"purple\", \"blue\", \"red\"] #this is a python list\n",
    "colours[1] #indexing in python starts at \"0\", so to call \"red\" use \"0\" and so on."
   ]
  },
  {
   "cell_type": "code",
   "execution_count": null,
   "metadata": {
    "collapsed": true
   },
   "outputs": [],
   "source": [
    "#let's print what this looks like.\n",
    "for i in range(18): #remember our loop with 18 iterations?\n",
    "    print(colours[i % 3], i % 3) #using the modulo operator leaves us with the remainder."
   ]
  },
  {
   "cell_type": "code",
   "execution_count": null,
   "metadata": {
    "collapsed": true
   },
   "outputs": [],
   "source": [
    "#now let's put it all together\n",
    "from mobilechelonian import Turtle\n",
    "t = Turtle()\n",
    "t.speed(10)\n",
    "\n",
    "def box(units):\n",
    "    for i in range(4): #enter a value for range\n",
    "        t.forward(units)\n",
    "        t.right(90) #enter a degree value\n",
    "\n",
    "colours = [\"purple\", \"blue\", \"red\"]   \n",
    "for i in range(18):\n",
    "    t.pencolor(colours[i % 3]) #new turtle command\n",
    "    box(100) #enter a unit value\n",
    "    t.right(20)"
   ]
  },
  {
   "cell_type": "markdown",
   "metadata": {},
   "source": [
    "## Bonus Challenge: Try and draw this pointy flower"
   ]
  },
  {
   "cell_type": "markdown",
   "metadata": {},
   "source": [
    "![flower](images/turtle-pointy-flower.png)"
   ]
  },
  {
   "cell_type": "code",
   "execution_count": null,
   "metadata": {
    "collapsed": true
   },
   "outputs": [],
   "source": [
    "### enter your code below. don't forget to import your turtle module!\n",
    "from mobilechelonian import Turtle\n",
    "t = Turtle()\n",
    "t.speed(10)\n",
    "\n",
    "def parallelogram(units): \n",
    "    for i in range(2):\n",
    "        t.right(-15)\n",
    "        t.forward(units)\n",
    "        t.right(30)\n",
    "        t.forward(units)\n",
    "        t.right(165)\n",
    "        \n",
    "colours = [\"purple\", \"red\", \"blue\"]   \n",
    "for i in range(18):\n",
    "    t.pencolor(colours[i % 3]) #new turtle command\n",
    "    parallelogram(100) #enter a unit value\n",
    "    t.right(20)"
   ]
  },
  {
   "cell_type": "markdown",
   "metadata": {},
   "source": [
    "### Congratulations, you've successfully programmed your Turtle!"
   ]
  },
  {
   "cell_type": "markdown",
   "metadata": {},
   "source": [
    "[![Callysto.ca License](https://github.com/callysto/curriculum-notebooks/blob/master/callysto-notebook-banner-bottom.jpg?raw=true)](https://github.com/callysto/curriculum-notebooks/blob/master/LICENSE.md)"
   ]
  }
 ],
 "metadata": {
  "kernelspec": {
   "display_name": "Python 3",
   "language": "python",
   "name": "python3"
  },
  "language_info": {
   "codemirror_mode": {
    "name": "ipython",
    "version": 3
   },
   "file_extension": ".py",
   "mimetype": "text/x-python",
   "name": "python",
   "nbconvert_exporter": "python",
   "pygments_lexer": "ipython3",
   "version": "3.7.5"
  }
 },
 "nbformat": 4,
 "nbformat_minor": 2
}
