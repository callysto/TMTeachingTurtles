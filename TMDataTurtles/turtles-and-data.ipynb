{
 "cells": [
  {
   "cell_type": "markdown",
   "metadata": {},
   "source": [
    "![Callysto.ca Banner](https://github.com/callysto/curriculum-notebooks/blob/master/callysto-notebook-banner-top.jpg?raw=true)\n",
    "\n",
    "<a href=\"https://hub.callysto.ca/jupyter/hub/user-redirect/git-pull?repo=https%3A%2F%2Fgithub.com%2Fcallysto%2Ftmteachingturtles&branch=master&subPath=TMDataTurtles/turtles-and-data.ipynb&depth=1\" target=\"_parent\"><img src=\"https://raw.githubusercontent.com/callysto/curriculum-notebooks/master/open-in-callysto-button.svg?sanitize=true\" width=\"123\" height=\"24\" alt=\"Open in Callysto\"/></a>"
   ]
  },
  {
   "cell_type": "markdown",
   "metadata": {},
   "source": [
    "# Turtles and Data\n",
    "\n",
    "This notebook will use what is probably the largest turtles command data set ever assembled (that said, we only spent about 5 minutes looking before just making one). Using this notebook and our previous knowledge of turtles, let's learn some basics about data and pandas in Python with turtles.\n",
    "\n",
    "## Pandas\n",
    "\n",
    "Pandas (Python Data Analysis Library, name derived from PANel DAta) is a free library for Python which makes loading and manipulating data more straightforward by taking advantage of something known as a **data frame**. Think of a data frame as something like a spreadsheet on steroids. Let's see what that looks like.\n"
   ]
  },
  {
   "cell_type": "code",
   "execution_count": null,
   "metadata": {},
   "outputs": [],
   "source": [
    "import pandas as pd\n",
    "import numpy as np \n",
    "from mobilechelonian import Turtle\n",
    "# Note: move this to helper function later \n",
    "def turtle_data(df):\n",
    "    '''\n",
    "    Function to read some basic turtles control data and \n",
    "    convert it into actually scooting that little turtle around\n",
    "    very basic so far. \n",
    "     \n",
    "    '''\n",
    "    t = Turtle()\n",
    "    t.speed(10)\n",
    "    for index, row in df.iterrows(): \n",
    "        t.pencolor(row.color)\n",
    "        if np.isnan(row.length):\n",
    "            if row.direction == \"left\":\n",
    "                t.left(row.angle)\n",
    "            elif row.direction == 'right':\n",
    "                t.right(row.angle)\n",
    "        elif np.isnan(row.angle):\n",
    "            if row.direction == \"forward\":\n",
    "                t.forward(row.length)\n",
    "            elif row.direction == \"backward\":\n",
    "                t.backward(row.length)"
   ]
  },
  {
   "cell_type": "markdown",
   "metadata": {},
   "source": [
    "### Loading Data \n",
    "\n",
    "Here we are downloading a `csv` (comma separated values) file of the data set stored on the cybera cloud. This is done using the pandas command `read_csv`, where the argument we pass it looks huge and terrible, but that's _actually_ just the file name!"
   ]
  },
  {
   "cell_type": "code",
   "execution_count": null,
   "metadata": {},
   "outputs": [],
   "source": [
    "csv_file = \"https://swift-yeg.cloud.cybera.ca:8080/v1/AUTH_233e84cd313945c992b4b585f7b9125d/callysto-open-data/turtles_drawings.csv\"\n",
    "df = pd.read_csv(csv_file)\n",
    "df"
   ]
  },
  {
   "cell_type": "markdown",
   "metadata": {},
   "source": [
    "You'll notice that there are nearly 4000 rows of data - more than we'd want to deal with in a spreadsheet. You'll also note that the rows don't appear to be in any particular order - we're going to have to manipulate our data frame in order to draw shapes! But first, let's go over what each column is\n",
    "\n",
    "1. `angle`, number or `NaN` (not a number): the angle at which a turn will be taken, if the `direction` is a turn.\n",
    "2. `direction`, number or `NaN`: The direction (forward or backward, or left or right turn) the turtle will move.\n",
    "3. `length`, number or `NaN`: The distance (in pixels) the turtle should move forward or backward, if `direction` is forward/backward.\n",
    "4. `order`, number: The order in which commands should be run to draw a given shape (counting starts at 0).\n",
    "5. `shape`, string: The shape the row is associated with.\n",
    "5. `color`, string: The pen color will draw with. \n",
    "\n",
    "### A few basic Pandas Commands \n",
    "\n",
    "The list below will use the name `df`, short for data frame, to represent the variable name that any data frame is assigned to.\n",
    "\n",
    "### Selecting Data\n",
    "\n",
    "To select a single column, use \n",
    "```python \n",
    "df[\"column_name\"]\n",
    "```\n",
    "To select multiple columns, use \n",
    "```python \n",
    "df[[\"list\",\"of\",...,\"column\",\"names\"]]\n",
    "```\n",
    "\n",
    "### Filtering Data\n",
    "\n",
    "To filter data to only rows where a column is a certain value, use\n",
    "```python\n",
    "df[df['column_name'] == value]\n",
    "``` \n",
    "\n",
    "To have multiple requirements, wrap things in parenthesis such as \n",
    "```python\n",
    "df[(df['column_name1'] == value1) & (df['column_name2'] == value2)]\n",
    "``` \n",
    "where `&` means \"and\". This command means we're looking for **rows** where `column_name1` is equal to `value1` **AND** where `column_name2` is equal to `value2`. \n",
    "\n",
    "Similarily, for `or`, represented by a vertical bar `|` \n",
    "```python\n",
    "df[(df['column_name1'] == value1) | (df['column_name2'] == value2)]\n",
    "``` \n",
    "This command means  we're looking for **rows** where `column_name1` is equal to `value1` **OR** where `column_name2` is equal to `value2`.\n",
    "\n",
    "\n",
    "### Sorting Values\n",
    "\n",
    "To sort alphanumerically by a single column use\n",
    "```python\n",
    "df.sort_values(by=\"column_name\")\n",
    "``` \n",
    "\n",
    "To sort alphanumerically by multiple columns, in the order that your list is given\n",
    "```python\n",
    "df.sort_values(by=[\"list\", \"of\", \"names\"])\n",
    "``` \n",
    "\n",
    "### Your Task\n",
    "\n",
    "Using the dataframe we loaded earlier, `df`, and the provided function `turtle_data`, draw a blue box. See usage of `turtle_data` below. Note that this will _not_ draw a shape as the data are random."
   ]
  },
  {
   "cell_type": "code",
   "execution_count": null,
   "metadata": {},
   "outputs": [],
   "source": [
    "# df[:10] means \"take the first 10 rows of the data frame\"\n",
    "turtle_data(df[:10])"
   ]
  },
  {
   "cell_type": "markdown",
   "metadata": {},
   "source": [
    "## Next Task\n",
    "\n",
    "Now that you've drawn the box, check out which other shapes you can create using the data set. "
   ]
  },
  {
   "cell_type": "code",
   "execution_count": null,
   "metadata": {},
   "outputs": [],
   "source": [
    "# enter code below\n"
   ]
  },
  {
   "cell_type": "markdown",
   "metadata": {},
   "source": [
    "[![Callysto.ca License](https://github.com/callysto/curriculum-notebooks/blob/master/callysto-notebook-banner-bottom.jpg?raw=true)](https://github.com/callysto/curriculum-notebooks/blob/master/LICENSE.md)"
   ]
  }
 ],
 "metadata": {
  "kernelspec": {
   "display_name": "Python 3",
   "language": "python",
   "name": "python3"
  },
  "language_info": {
   "codemirror_mode": {
    "name": "ipython",
    "version": 3
   },
   "file_extension": ".py",
   "mimetype": "text/x-python",
   "name": "python",
   "nbconvert_exporter": "python",
   "pygments_lexer": "ipython3",
   "version": "3.7.6"
  },
  "nbTranslate": {
   "displayLangs": [
    "*"
   ],
   "hotkey": "alt-t",
   "langInMainMenu": true,
   "sourceLang": "en",
   "targetLang": "fr",
   "useGoogleTranslate": true
  }
 },
 "nbformat": 4,
 "nbformat_minor": 2
}
