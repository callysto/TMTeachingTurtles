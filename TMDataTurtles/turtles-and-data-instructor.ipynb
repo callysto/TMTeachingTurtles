{
 "cells": [
  {
   "cell_type": "markdown",
   "metadata": {},
   "source": [
    "![Callysto.ca Banner](https://github.com/callysto/curriculum-notebooks/blob/master/callysto-notebook-banner-top.jpg?raw=true)"
   ]
  },
  {
   "cell_type": "markdown",
   "metadata": {},
   "source": [
    "# Turtles and Data\n",
    "\n",
    "This notebook will use what is probably the largest turtles command data set ever assembled. That said, we only spent about five minutes looking before just making one.\n",
    "\n",
    "Using this notebook and our previous knowledge of turtles, let's learn some basics about data and pandas in Python with turtles.\n",
    "\n",
    "## Pandas\n",
    "\n",
    "Pandas (Python Data Analysis Library, name derived from PANel DAta) is a free library for Python which makes loading and manipulating data more straightforward by taking advantage of something known as a **data frame**. Think of a data frame as something like a spreadsheet, but better.\n",
    "\n",
    "First we need to import some code libraries."
   ]
  },
  {
   "cell_type": "code",
   "execution_count": null,
   "metadata": {},
   "outputs": [],
   "source": [
    "import pandas as pd\n",
    "import numpy as np \n",
    "from mobilechelonian import Turtle\n",
    "from helper.turthelp import turtle_data\n",
    "print('Libraries successfully imported.')"
   ]
  },
  {
   "cell_type": "markdown",
   "metadata": {},
   "source": [
    "### Loading Data \n",
    "\n",
    "Here we are downloading a `csv` (comma separated values) file of the data set stored on the cybera cloud. This is done using the pandas command `read_csv`, where the argument we pass it is the file name (either a file on the internet or a local file)."
   ]
  },
  {
   "cell_type": "code",
   "execution_count": null,
   "metadata": {},
   "outputs": [],
   "source": [
    "#csv_file = \"https://swift-yeg.cloud.cybera.ca:8080/v1/AUTH_233e84cd313945c992b4b585f7b9125d/callysto-open-data/turtles_drawings.csv\"\n",
    "csv_file = \"./turtles-drawings.csv\"\n",
    "df = pd.read_csv(csv_file)\n",
    "df"
   ]
  },
  {
   "cell_type": "markdown",
   "metadata": {},
   "source": [
    "You'll notice that there are nearly 4000 rows of data, more than we'd want to deal with in a spreadsheet. You'll also note that the rows don't appear to be in any particular order, we're going to need to manipulate our data frame in order to draw shapes.\n",
    "\n",
    "But first, let's go over what each column is:\n",
    "\n",
    "1. `angle` : the angle at which a turn will be taken, if the `direction` is a turn (number or `NaN`, which means not a number).\n",
    "2. `direction` : The direction (forward or backward, or left or right turn) the turtle will move (number or `NaN`).\n",
    "3. `length` : The distance (in pixels) the turtle should move forward or backward, if `direction` is forward/backward (number or `NaN`).\n",
    "4. `order` : The order in which commands should be run to draw a given shape (number, counting starts at 0).\n",
    "5. `shape` : The shape the row is associated with (string).\n",
    "5. `color` : The pen color to draw with (string)."
   ]
  },
  {
   "cell_type": "markdown",
   "metadata": {},
   "source": [
    "### Filtering and Sorting Data\n",
    "\n",
    "To filter the dataframe by values in a column and sort the values, use the following code:"
   ]
  },
  {
   "cell_type": "code",
   "execution_count": null,
   "metadata": {},
   "outputs": [],
   "source": [
    "df[(df['shape']=='star') & (df['color'] == 'yellow')].sort_values(by='order')"
   ]
  },
  {
   "cell_type": "markdown",
   "metadata": {},
   "source": [
    "Let's explore the commands in that line of code that gave us a filtered and sorted dataframe.\n",
    "\n",
    "```python\n",
    "df[(df['shape']=='star') & (df['color'] == 'yellow')].sort_values(by='order')\n",
    "```\n",
    "\n",
    "First we are using part of the `df` dataframe, where the column `df['shape']` is equal to `'star'` **and** the column `df['color']` is equal to `'yellow'`.\n",
    "\n",
    "Because we have more than one condition we use parentheses `()` around them and the symbol `&` between them.\n",
    "\n",
    "The `.sort_values(by='order')` is a *method*, which is like a *function*, defined for dataframes that sorts the values in the dataframe. There are [more options](https://pandas.pydata.org/pandas-docs/stable/reference/api/pandas.DataFrame.sort_values.html) for the sorting process if you are interested.\n",
    "\n",
    "The next cell has more information about pandas commands, or you can skip down to using the drawing function."
   ]
  },
  {
   "cell_type": "markdown",
   "metadata": {},
   "source": [
    "## Some Pandas Commands \n",
    "\n",
    "The list below will use the name `df`, short for data frame, to represent the variable name that any data frame is assigned to.\n",
    "\n",
    "### Selecting Data\n",
    "\n",
    "To select a single column, use \n",
    "```python \n",
    "df[\"column_name\"]\n",
    "```\n",
    "To select multiple columns, use \n",
    "```python \n",
    "df[[\"list\",\"of\",\"column\",\"names\"]]\n",
    "```\n",
    "\n",
    "### Filtering Data\n",
    "\n",
    "To filter data to only rows where a column is a certain value, use\n",
    "```python\n",
    "df[df['column_name'] == value]\n",
    "``` \n",
    "\n",
    "To have multiple requirements, wrap things in parenthesis such as \n",
    "```python\n",
    "df[(df['column_name1'] == value1) & (df['column_name2'] == value2)]\n",
    "``` \n",
    "where `&` means \"and\". This command means we're looking for **rows** where `column_name1` is equal to `value1` **AND** where `column_name2` is equal to `value2`. \n",
    "\n",
    "Similarily, for `or`, represented by a vertical bar `|` \n",
    "```python\n",
    "df[(df['column_name1'] == value1) | (df['column_name2'] == value2)]\n",
    "``` \n",
    "This command means  we're looking for **rows** where `column_name1` is equal to `value1` **OR** where `column_name2` is equal to `value2`.\n",
    "\n",
    "\n",
    "### Sorting Values\n",
    "\n",
    "To sort alphanumerically by a single column use\n",
    "```python\n",
    "df.sort_values(by=\"column_name\")\n",
    "``` \n",
    "\n",
    "To sort alphanumerically by multiple columns, in the order that your list is given\n",
    "```python\n",
    "df.sort_values(by=[\"list\", \"of\", \"names\"])\n",
    "``` "
   ]
  },
  {
   "cell_type": "markdown",
   "metadata": {},
   "source": [
    "## Using the `turtle_data` Function to Draw Shapes\n",
    "\n",
    "To allow you to focus on manipulating the data, we have written a function to parse the dataframe and draw turtle graphics.\n",
    "\n",
    "The line `from helper.turthelp import turtle_data` in the first code cell of this notebook imported that function from the included Python code file.\n",
    "\n",
    "The cell below demonstrates how to use it. In this case, the `turtle_data` function simply takes the turtles DataFrame as input, and it handles the rest. The result of running the code below will not look correct, because we haven't yet sorted or filtered the data."
   ]
  },
  {
   "cell_type": "code",
   "execution_count": null,
   "metadata": {},
   "outputs": [],
   "source": [
    "demo_frame = df[df['shape'] == 'box']\n",
    "turtle_data(demo_frame)"
   ]
  },
  {
   "cell_type": "markdown",
   "metadata": {},
   "source": [
    "## Task\n",
    "\n",
    "Filter the data appropriately to draw a box, then try other shapes and colors. You can use a single line of code to filter and sort the data, as we did above, or multiple steps like:\n",
    "\n",
    "```python\n",
    "df_box = df[df['shape'] == 'star']\n",
    "df_green_box = df_box[df_box['color']=='yellow']\n",
    "df_sorted = df_green_box.sort_values(by='order')\n",
    "turtle_data(df_sorted)\n",
    "```\n",
    "\n",
    "**Instructor**: All shapes and colors can be achieved with a similar code, simply change which color and shape you want."
   ]
  },
  {
   "cell_type": "code",
   "execution_count": null,
   "metadata": {},
   "outputs": [],
   "source": [
    "# enter code below\n",
    "df_box = df[df['shape'] == 'box']\n",
    "df_green_box = df_box[df_box['color']=='green']\n",
    "df_sorted = df_green_box.sort_values(by='order')\n",
    "turtle_data(df_sorted)"
   ]
  },
  {
   "cell_type": "code",
   "execution_count": null,
   "metadata": {},
   "outputs": [],
   "source": [
    "turtle_data(df[(df['shape']=='star') & (df['color'] == 'yellow')].sort_values(by=\"order\"))"
   ]
  },
  {
   "cell_type": "markdown",
   "metadata": {},
   "source": [
    "# Congratulations\n",
    "\n",
    "You've successfully programmed your turtle using an instruction set from a pandas dataframe!"
   ]
  },
  {
   "cell_type": "markdown",
   "metadata": {},
   "source": [
    "## Advanced: Alternating Colors\n",
    "\n",
    "As an advanced challenge, you can try drawing shapes with alternating colors from the dataframe.\n",
    "\n",
    "**Instructor**: This is more difficult, and there are many ways to do this. Here is one example of building a new dataframe while alternating colors."
   ]
  },
  {
   "cell_type": "code",
   "execution_count": null,
   "metadata": {},
   "outputs": [],
   "source": [
    "star_frame = df[df['shape'] == 'star']\n",
    "ac = star_frame.sort_values(by=['order', 'color']).reset_index(drop=True)\n",
    "alter_frame = pd.DataFrame(columns=ac.columns)\n",
    "colors = ac.color.unique()\n",
    "for i in range(ac.order.max() + 1):\n",
    "    color_index = i % 6\n",
    "    color = colors[color_index]\n",
    "    alter_frame= alter_frame.append(ac[(ac['order']==i) & (ac['color']==color)], ignore_index=True)\n",
    "turtle_data(alter_frame)"
   ]
  },
  {
   "cell_type": "markdown",
   "metadata": {},
   "source": [
    "[![Callysto.ca License](https://github.com/callysto/curriculum-notebooks/blob/master/callysto-notebook-banner-bottom.jpg?raw=true)](https://github.com/callysto/curriculum-notebooks/blob/master/LICENSE.md)"
   ]
  }
 ],
 "metadata": {
  "kernelspec": {
   "display_name": "Python 3",
   "language": "python",
   "name": "python3"
  },
  "language_info": {
   "codemirror_mode": {
    "name": "ipython",
    "version": 3
   },
   "file_extension": ".py",
   "mimetype": "text/x-python",
   "name": "python",
   "nbconvert_exporter": "python",
   "pygments_lexer": "ipython3",
   "version": "3.7.3"
  },
  "nbTranslate": {
   "displayLangs": [
    "*"
   ],
   "hotkey": "alt-t",
   "langInMainMenu": true,
   "sourceLang": "en",
   "targetLang": "fr",
   "useGoogleTranslate": true
  }
 },
 "nbformat": 4,
 "nbformat_minor": 2
}
