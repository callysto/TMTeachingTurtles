{
 "cells": [
  {
   "cell_type": "markdown",
   "metadata": {},
   "source": [
    "# Turtles and Data\n",
    "\n",
    "This notebook will use what is probably the largest turtles command data set ever assembled (that said, we only spent about 5 minutes looking before just making one). Using this notebook and our previous knowledge of turtles, let's learn some basics about data and pandas in Python with turtles.\n",
    "\n",
    "## Pandas\n",
    "\n",
    "Pandas (Python Data Analysis Library, name derived from PANel DAta) is a free library for Python which makes loading and manipulating data more straightforward by taking advantage of something known as a **data frame**. Think of a data frame as something like a spreadsheet on steroids. Let's see what that looks like.\n"
   ]
  },
  {
   "cell_type": "code",
   "execution_count": 1,
   "metadata": {},
   "outputs": [],
   "source": [
    "import pandas as pd\n",
    "import numpy as np \n",
    "from mobilechelonian import Turtle\n",
    "from helper.turthelp import turtle_data\n"
   ]
  },
  {
   "cell_type": "markdown",
   "metadata": {},
   "source": [
    "### Loading Data \n",
    "\n",
    "Here we are downloading a `csv` (comma separated values) file of the data set stored on the cybera cloud. This is done using the pandas command `read_csv`, where the argument we pass it looks huge and terrible, but that's _actually_ just the file name!"
   ]
  },
  {
   "cell_type": "code",
   "execution_count": 2,
   "metadata": {},
   "outputs": [
    {
     "data": {
      "text/html": [
       "<div>\n",
       "<style scoped>\n",
       "    .dataframe tbody tr th:only-of-type {\n",
       "        vertical-align: middle;\n",
       "    }\n",
       "\n",
       "    .dataframe tbody tr th {\n",
       "        vertical-align: top;\n",
       "    }\n",
       "\n",
       "    .dataframe thead th {\n",
       "        text-align: right;\n",
       "    }\n",
       "</style>\n",
       "<table border=\"1\" class=\"dataframe\">\n",
       "  <thead>\n",
       "    <tr style=\"text-align: right;\">\n",
       "      <th></th>\n",
       "      <th>angle</th>\n",
       "      <th>direction</th>\n",
       "      <th>length</th>\n",
       "      <th>order</th>\n",
       "      <th>shape</th>\n",
       "      <th>color</th>\n",
       "    </tr>\n",
       "  </thead>\n",
       "  <tbody>\n",
       "    <tr>\n",
       "      <td>0</td>\n",
       "      <td>NaN</td>\n",
       "      <td>forward</td>\n",
       "      <td>100.0</td>\n",
       "      <td>49</td>\n",
       "      <td>box_flower</td>\n",
       "      <td>purple</td>\n",
       "    </tr>\n",
       "    <tr>\n",
       "      <td>1</td>\n",
       "      <td>144.0</td>\n",
       "      <td>right</td>\n",
       "      <td>NaN</td>\n",
       "      <td>69</td>\n",
       "      <td>spiral_star</td>\n",
       "      <td>blue</td>\n",
       "    </tr>\n",
       "    <tr>\n",
       "      <td>2</td>\n",
       "      <td>NaN</td>\n",
       "      <td>forward</td>\n",
       "      <td>80.0</td>\n",
       "      <td>16</td>\n",
       "      <td>spiral_star</td>\n",
       "      <td>yellow</td>\n",
       "    </tr>\n",
       "    <tr>\n",
       "      <td>3</td>\n",
       "      <td>45.0</td>\n",
       "      <td>left</td>\n",
       "      <td>NaN</td>\n",
       "      <td>14</td>\n",
       "      <td>flower</td>\n",
       "      <td>brown</td>\n",
       "    </tr>\n",
       "    <tr>\n",
       "      <td>4</td>\n",
       "      <td>135.0</td>\n",
       "      <td>left</td>\n",
       "      <td>NaN</td>\n",
       "      <td>3</td>\n",
       "      <td>flower</td>\n",
       "      <td>blue</td>\n",
       "    </tr>\n",
       "    <tr>\n",
       "      <td>...</td>\n",
       "      <td>...</td>\n",
       "      <td>...</td>\n",
       "      <td>...</td>\n",
       "      <td>...</td>\n",
       "      <td>...</td>\n",
       "      <td>...</td>\n",
       "    </tr>\n",
       "    <tr>\n",
       "      <td>3901</td>\n",
       "      <td>NaN</td>\n",
       "      <td>forward</td>\n",
       "      <td>230.0</td>\n",
       "      <td>46</td>\n",
       "      <td>spiral_star</td>\n",
       "      <td>green</td>\n",
       "    </tr>\n",
       "    <tr>\n",
       "      <td>3902</td>\n",
       "      <td>NaN</td>\n",
       "      <td>forward</td>\n",
       "      <td>25.0</td>\n",
       "      <td>13</td>\n",
       "      <td>circle</td>\n",
       "      <td>red</td>\n",
       "    </tr>\n",
       "    <tr>\n",
       "      <td>3903</td>\n",
       "      <td>45.0</td>\n",
       "      <td>left</td>\n",
       "      <td>NaN</td>\n",
       "      <td>82</td>\n",
       "      <td>flower</td>\n",
       "      <td>black</td>\n",
       "    </tr>\n",
       "    <tr>\n",
       "      <td>3904</td>\n",
       "      <td>NaN</td>\n",
       "      <td>forward</td>\n",
       "      <td>100.0</td>\n",
       "      <td>81</td>\n",
       "      <td>box_flower</td>\n",
       "      <td>black</td>\n",
       "    </tr>\n",
       "    <tr>\n",
       "      <td>3905</td>\n",
       "      <td>90.0</td>\n",
       "      <td>left</td>\n",
       "      <td>NaN</td>\n",
       "      <td>3</td>\n",
       "      <td>box_flower</td>\n",
       "      <td>brown</td>\n",
       "    </tr>\n",
       "  </tbody>\n",
       "</table>\n",
       "<p>3906 rows × 6 columns</p>\n",
       "</div>"
      ],
      "text/plain": [
       "      angle direction  length  order        shape   color\n",
       "0       NaN   forward   100.0     49   box_flower  purple\n",
       "1     144.0     right     NaN     69  spiral_star    blue\n",
       "2       NaN   forward    80.0     16  spiral_star  yellow\n",
       "3      45.0      left     NaN     14       flower   brown\n",
       "4     135.0      left     NaN      3       flower    blue\n",
       "...     ...       ...     ...    ...          ...     ...\n",
       "3901    NaN   forward   230.0     46  spiral_star   green\n",
       "3902    NaN   forward    25.0     13       circle     red\n",
       "3903   45.0      left     NaN     82       flower   black\n",
       "3904    NaN   forward   100.0     81   box_flower   black\n",
       "3905   90.0      left     NaN      3   box_flower   brown\n",
       "\n",
       "[3906 rows x 6 columns]"
      ]
     },
     "execution_count": 2,
     "metadata": {},
     "output_type": "execute_result"
    }
   ],
   "source": [
    "csv_file = \"https://swift-yeg.cloud.cybera.ca:8080/v1/AUTH_233e84cd313945c992b4b585f7b9125d/callysto-open-data/turtles_drawings.csv\"\n",
    "df = pd.read_csv(csv_file)\n",
    "df"
   ]
  },
  {
   "cell_type": "markdown",
   "metadata": {},
   "source": [
    "## Using the `turtle_data` Function To Draw Shapes\n",
    "\n",
    "We've provided a simple function which can parse the Data Frames above to draw turtle graphics so you can focus on manipulating the data frame. The cell below demonstrates how to use it. In this case, the `turtle_data` function simply takes the turtles DataFrame as input, and it handles the rest. This is demonstrated below. **Note**: The demonstration below will not actually look correct. This is intentional."
   ]
  },
  {
   "cell_type": "code",
   "execution_count": 4,
   "metadata": {},
   "outputs": [
    {
     "data": {
      "application/vnd.jupyter.widget-view+json": {
       "model_id": "6bb6d85387f445cd8d85885688abea2e",
       "version_major": 2,
       "version_minor": 0
      },
      "text/plain": [
       "Turtle()"
      ]
     },
     "metadata": {},
     "output_type": "display_data"
    }
   ],
   "source": [
    "demo_frame = df[df['shape'] == 'box']\n",
    "turtle_data(demo_frame)"
   ]
  },
  {
   "cell_type": "markdown",
   "metadata": {},
   "source": [
    "##  Task\n",
    "\n",
    "Filter the data appropriately to draw the box, then try other shapes/colors! "
   ]
  },
  {
   "cell_type": "code",
   "execution_count": null,
   "metadata": {},
   "outputs": [],
   "source": [
    "# enter code below\n"
   ]
  }
 ],
 "metadata": {
  "kernelspec": {
   "display_name": "Python 3",
   "language": "python",
   "name": "python3"
  },
  "language_info": {
   "codemirror_mode": {
    "name": "ipython",
    "version": 3
   },
   "file_extension": ".py",
   "mimetype": "text/x-python",
   "name": "python",
   "nbconvert_exporter": "python",
   "pygments_lexer": "ipython3",
   "version": "3.7.4"
  },
  "nbTranslate": {
   "displayLangs": [
    "*"
   ],
   "hotkey": "alt-t",
   "langInMainMenu": true,
   "sourceLang": "en",
   "targetLang": "fr",
   "useGoogleTranslate": true
  }
 },
 "nbformat": 4,
 "nbformat_minor": 2
}
