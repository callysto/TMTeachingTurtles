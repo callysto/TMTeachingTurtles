{
 "cells": [
  {
   "cell_type": "code",
   "execution_count": 19,
   "metadata": {},
   "outputs": [
    {
     "data": {
      "application/vnd.jupyter.widget-view+json": {
       "model_id": "94b26288a2ad43a9bfe90fbdc3011264",
       "version_major": 2,
       "version_minor": 0
      },
      "text/plain": [
       "Canvas(height=400, width=400)"
      ]
     },
     "metadata": {},
     "output_type": "display_data"
    }
   ],
   "source": [
    "import ipyturtle3 as turtle\n",
    "from ipyturtle3 import hold_canvas\n",
    "\n",
    "canvas=turtle.Canvas(400, 400)\n",
    "display(canvas)\n",
    "screen=turtle.TurtleScreen(canvas)\n",
    "screen.bgcolor(\"lightblue\")\n",
    "t = turtle.Turtle(screen)\n",
    "\n",
    "t.speed(10)\n",
    "\n",
    "def half_leaf():\n",
    "    t.penup()\n",
    "    t.setposition(0,0)\n",
    "    t.pendown()\n",
    "    \n",
    "    \n",
    "    t.left(90)\n",
    "    t.forward(50)\n",
    "\n",
    "    t.right(100)\n",
    "    t.forward(50)\n",
    "\n",
    "    t.left(130)\n",
    "    t.forward(20)\n",
    "\n",
    "    t.right(90)\n",
    "    t.forward(50)\n",
    "\n",
    "    t.left(100)\n",
    "    t.forward(15)\n",
    "\n",
    "    t.right(80)\n",
    "    t.forward(30)\n",
    "\n",
    "    t.left(130)\n",
    "    t.forward(30)\n",
    "\n",
    "    t.right(90)\n",
    "    t.forward(15)\n",
    "\n",
    "    t.left(120)\n",
    "    t.forward(40)\n",
    "\n",
    "    t.right(120)\n",
    "    t.forward(50)\n",
    "\n",
    "    t.left(120)\n",
    "    t.forward(15)\n",
    "\n",
    "    t.right(90)\n",
    "    t.forward(30)\n",
    "\n",
    "color_list = ['red', 'orange', 'yellow', 'green', 'blue', 'violet']\n",
    "\n",
    "for color in color_list:\n",
    "    t.pencolor(color)\n",
    "    half_leaf()\n",
    "    t.right(60)\n",
    "    \n",
    "t.penup()\n",
    "t.setposition(500, 500)"
   ]
  }
 ],
 "metadata": {
  "kernelspec": {
   "display_name": "Python 3",
   "language": "python",
   "name": "python3"
  },
  "language_info": {
   "codemirror_mode": {
    "name": "ipython",
    "version": 3
   },
   "file_extension": ".py",
   "mimetype": "text/x-python",
   "name": "python",
   "nbconvert_exporter": "python",
   "pygments_lexer": "ipython3",
   "version": "3.10.8"
  },
  "orig_nbformat": 4
 },
 "nbformat": 4,
 "nbformat_minor": 2
}
