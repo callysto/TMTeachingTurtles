{
 "cells": [
  {
   "cell_type": "markdown",
   "metadata": {},
   "source": [
    "![Callysto.ca Banner](https://github.com/callysto/curriculum-notebooks/blob/master/callysto-notebook-banner-top.jpg?raw=true)\n",
    "\n",
    "<a href=\"https://hub.callysto.ca/jupyter/hub/user-redirect/git-pull?repo=https%3A%2F%2Fgithub.com%2Fcallysto%2Ftmteachingturtles&branch=master&subPath=TMArtTurtles/jupyter-concours-d'art-de-tortue-par-Callysto.ipynb&depth=1\" target=\"_parent\"><img src=\"https://raw.githubusercontent.com/callysto/cahiers-de-programmes/master/bouton-callysto.svg?sanitize=true\" width=\"123\" height=\"24\" alt=\"Ouvrir dans Callysto\"/></a>"
   ]
  },
  {
   "cell_type": "markdown",
   "metadata": {},
   "source": [
    "# Concours d'art de tortue par Callysto\n",
    "\n",
    "Les graphiques tortue aident les gens à en apprendre davantage sur la pensée computationnelle et la programmation informatique depuis plus de 30 ans!  \n",
    "\n",
    "C'est à votre tour de faire un tour avec notre ami 🐢  et gagner un prix 🤩. Comme BONI, vous allez apprendre davantage sur la programmation Python et les carnets Jupyer pendant que vous y êtes! \n",
    "\n",
    "Soumettre votre candidature par le **30 juin, 2020** pour être éligible pour un prix (regardez ls détails ci-dessous). Nous allons afficher les dessins tortue sur des sites de médias sociaux, utilisant #CallystoContest."
   ]
  },
  {
   "cell_type": "markdown",
   "metadata": {},
   "source": [
    "### **Quel est ton prénom?**\n",
    "\n",
    "✏️ Double-clique ici et écrire ton prénom."
   ]
  },
  {
   "cell_type": "markdown",
   "metadata": {},
   "source": [
    "## Instructions\n",
    "\n",
    "Pour créer des dessins tortue, la prochaine cellule de code importe la catalogue de dessins tortue `mobilechelonian` et nomme la tortue `leo = Turtle()`. Sens toi libre de changer le nom de la tortue selon ton désir. Selectionne la cellule en dessous de celle-ci, ensuite clique le boutton `▶Run` dans la barre d'outils pour demarrer ta tortue."
   ]
  },
  {
   "cell_type": "code",
   "execution_count": null,
   "metadata": {},
   "outputs": [],
   "source": [
    "from mobilechelonian import Turtle\n",
    "leo = Turtle()\n",
    "leo.speed(10)  # 10 est la vitesse maximale\n",
    "\n",
    "# ce code dessine un carré :\n",
    "leo.forward(100)\n",
    "leo.right(90)\n",
    "leo.forward(100)\n",
    "leo.right(90)\n",
    "leo.forward(100)\n",
    "leo.right(90)\n",
    "leo.forward(100)"
   ]
  },
  {
   "cell_type": "markdown",
   "metadata": {},
   "source": [
    "# Comment commander un Turtle :\n",
    "\n",
    "Les commandes possibles pour ta tortue sont :\n",
    "\n",
    "`leo.speed(integer)`\n",
    "* Vitesse de ta tortue, 1-10 (indice : utilise 10) \n",
    "\n",
    "`leo.right(degrees)` or `leo.left(degrees)`\n",
    "* Faire tourner ta tortue vers la gauche ou vers la droite par un certain nombre de degrés.\n",
    "\n",
    "`leo.forward(units)` or `leo.backward(units)`\n",
    "* Faire bouger ta tortue en avant ou en arrière (les unités sont des pixels) .\n",
    "\n",
    "`leo.pendown()` or `leo.penup()`\n",
    "* pendown dessine une ligne et penup ne dessine pas\n",
    "\n",
    "`leo.pencolor('color')`\n",
    "* [Couleur](https://www.w3schools.com/tags/ref_colornames.asp) de la ligne que ta tortue dessine, en anglais. Par exemple 'blue' ou 'rgb(100, 0, 255)'\n",
    "\n",
    "`leo.setposition(x, y)`\n",
    "* Faire bouger la tortue à une position specifique. (0,0) est le coin supérieur à la gauche et (400, 400) est le coin inférieur à la droite.\n",
    "\n",
    "`leo.circle(r, degrees)`\n",
    "* Demande ta tortue de dessiner une partie d'un cercle, de rayon r, à travers un certain nombre de degrés.\n",
    "\n",
    "Pour des informations supplémentaires (en anglais) et de l'inspiration, consulte [cette ressource](https://github.com/callysto/TMTeachingTurtles/blob/master/TMPythonTurtles/turtles-and-python-intro-instructor.ipynb) et [exemple](https://github.com/callysto/TMTeachingTurtles/blob/jupyter-turtles-art-contest/turtles-cool-art-demo.ipynb)."
   ]
  },
  {
   "cell_type": "markdown",
   "metadata": {},
   "source": [
    "## Mettre ton dessin Turtle ici"
   ]
  },
  {
   "cell_type": "code",
   "execution_count": null,
   "metadata": {},
   "outputs": [],
   "source": [
    "#✏️ Edit this cell\n",
    "from mobilechelonian import Turtle\n",
    "leo = Turtle()\n",
    "leo.speed(10)\n",
    "\n"
   ]
  },
  {
   "cell_type": "markdown",
   "metadata": {},
   "source": [
    "## Soumettre ton dessin\n",
    "\n",
    "Télécharger ton fichier : `File -> Download As -> Notebook (.ipynb)`. Ensuite partage le fichier avec ton/ta enseignant.e pour le soumettre."
   ]
  },
  {
   "cell_type": "markdown",
   "metadata": {},
   "source": [
    "[![Callysto.ca License](https://github.com/callysto/curriculum-notebooks/blob/master/callysto-notebook-banner-bottom.jpg?raw=true)](https://github.com/callysto/curriculum-notebooks/blob/master/LICENSE.md)"
   ]
  }
 ],
 "metadata": {
  "kernelspec": {
   "display_name": "Python 3",
   "language": "python",
   "name": "python3"
  },
  "language_info": {
   "codemirror_mode": {
    "name": "ipython",
    "version": 3
   },
   "file_extension": ".py",
   "mimetype": "text/x-python",
   "name": "python",
   "nbconvert_exporter": "python",
   "pygments_lexer": "ipython3",
   "version": "3.7.6"
  }
 },
 "nbformat": 4,
 "nbformat_minor": 4
}
