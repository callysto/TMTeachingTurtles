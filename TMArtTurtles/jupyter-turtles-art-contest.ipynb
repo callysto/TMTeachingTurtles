{
 "cells": [
  {
   "cell_type": "markdown",
   "metadata": {},
   "source": [
    "![Callysto.ca Banner](https://github.com/callysto/curriculum-notebooks/blob/master/callysto-notebook-banner-top.jpg?raw=true)\n",
    "\n",
    "<a href=\"https://hub.callysto.ca/jupyter/hub/user-redirect/git-pull?repo=https%3A%2F%2Fgithub.com%2Fcallysto%2Ftmteachingturtles&branch=master&subPath=TMArtTurtles/jupyter-turtles-art-contest.ipynb&depth=1\" target=\"_parent\"><img src=\"https://raw.githubusercontent.com/callysto/curriculum-notebooks/master/open-in-callysto-button.svg?sanitize=true\" width=\"123\" height=\"24\" alt=\"Open in Callysto\"/></a>"
   ]
  },
  {
   "cell_type": "markdown",
   "metadata": {},
   "source": [
    "# Callysto Turtle Art Contest\n",
    "\n",
    "[Turtle graphics](https://en.wikipedia.org/wiki/Turtle_graphics) have been helping folks learn about computational thinking and computer programming for over 30 years! \n",
    "\n",
    "Now it's your turn to take our 🐢 friend for a spin and win a prize 🤩. As a BONUS you'll learn about Python programming and Jupyer notebooks while you're at it!\n",
    "\n",
    "Submit your entry by **June 30, 2020** to be eligible for a prize (see details below). We'll post turtle artwork on social media using #CallystoContest"
   ]
  },
  {
   "cell_type": "markdown",
   "metadata": {},
   "source": [
    "### **What's Your First Name?**\n",
    "\n",
    "✏️ Double click here and enter your first name"
   ]
  },
  {
   "cell_type": "markdown",
   "metadata": {},
   "source": [
    "## Instructions\n",
    "\n",
    "To create turtle art, the next code cell imports the turtle drawing library `mobilechelonian` and names the turtle `leo = Turtle()`. Feel free to change the turtle's name if you'd like. Select the cell below this one, then click the `▶Run` button in the toolbar to make your turtle go."
   ]
  },
  {
   "cell_type": "code",
   "execution_count": null,
   "metadata": {},
   "outputs": [],
   "source": [
    "from mobilechelonian import Turtle\n",
    "leo = Turtle()\n",
    "leo.speed(10)  # 10 is the maximum speed\n",
    "\n",
    "# this code will draw a square\n",
    "leo.forward(100)\n",
    "leo.right(90)\n",
    "leo.forward(100)\n",
    "leo.right(90)\n",
    "leo.forward(100)\n",
    "leo.right(90)\n",
    "leo.forward(100)"
   ]
  },
  {
   "cell_type": "markdown",
   "metadata": {},
   "source": [
    "# Turtle Commands\n",
    "\n",
    "The possible commands for your turle are:\n",
    "\n",
    "`leo.speed(integer)`\n",
    "* Speed of your turtle, 1-10 (hint set your speed to 10) \n",
    "\n",
    "`leo.right(degrees)` or `leo.left(degrees)`\n",
    "* Turn turtle left or right by some degrees\n",
    "\n",
    "`leo.forward(units)` or `leo.backward(units)`\n",
    "* Move your turtle forward or backward (units are in pixels) \n",
    "\n",
    "`leo.pendown()` or `leo.penup()`\n",
    "* For drawing lines or not drawing lines\n",
    "\n",
    "`leo.pencolor('color')`\n",
    "* [Color](https://www.w3schools.com/tags/ref_colornames.asp) of your turtle’s line, e.g. 'blue' or 'rgb(100, 0, 255)'\n",
    "\n",
    "`leo.setposition(x, y)`\n",
    "* Move the turtle to a specific position. (0,0) is the top left and (400, 400) is the bottom right.\n",
    "\n",
    "`leo.circle(r, degrees)`\n",
    "* Have turtle draw a piece of a circle of radius r, through some number of degrees \n",
    "\n",
    "For more information and some inspiration, check out [this resource](https://github.com/callysto/TMTeachingTurtles/blob/master/TMPythonTurtles/turtles-and-python-intro-instructor.ipynb) and [example](https://github.com/callysto/TMTeachingTurtles/blob/jupyter-turtles-art-contest/turtles-cool-art-demo.ipynb)."
   ]
  },
  {
   "cell_type": "markdown",
   "metadata": {},
   "source": [
    "## Draw Your Turtle Art Here"
   ]
  },
  {
   "cell_type": "code",
   "execution_count": null,
   "metadata": {},
   "outputs": [],
   "source": [
    "#✏️ Edit this cell\n",
    "from mobilechelonian import Turtle\n",
    "leo = Turtle()\n",
    "leo.speed(10)\n",
    "\n"
   ]
  },
  {
   "cell_type": "markdown",
   "metadata": {},
   "source": [
    "## Submit Your Art\n",
    "\n",
    "Download your file: `File -> Download As -> Notebook (.ipynb)`. Then share the file with your teacher for submission."
   ]
  },
  {
   "cell_type": "markdown",
   "metadata": {},
   "source": [
    "[![Callysto.ca License](https://github.com/callysto/curriculum-notebooks/blob/master/callysto-notebook-banner-bottom.jpg?raw=true)](https://github.com/callysto/curriculum-notebooks/blob/master/LICENSE.md)"
   ]
  }
 ],
 "metadata": {
  "kernelspec": {
   "display_name": "Python 3",
   "language": "python",
   "name": "python3"
  },
  "language_info": {
   "codemirror_mode": {
    "name": "ipython",
    "version": 3
   },
   "file_extension": ".py",
   "mimetype": "text/x-python",
   "name": "python",
   "nbconvert_exporter": "python",
   "pygments_lexer": "ipython3",
   "version": "3.7.6"
  }
 },
 "nbformat": 4,
 "nbformat_minor": 4
}
