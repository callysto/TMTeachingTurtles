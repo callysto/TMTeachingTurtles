{
 "cells": [
  {
   "cell_type": "markdown",
   "metadata": {},
   "source": [
    "![Callysto.ca Banner](https://github.com/callysto/curriculum-notebooks/blob/master/callysto-notebook-banner-top.jpg?raw=true)"
   ]
  },
  {
   "cell_type": "markdown",
   "metadata": {},
   "source": [
    "# Turtles: Lists and Dictionaries\n",
    "\n",
    "This notebook will use Turtles to explore some ways to structure data in Python.\n",
    "\n",
    "## Lists\n",
    "\n",
    "In the previous notebook we used a list of colors, let's ."
   ]
  },
  {
   "cell_type": "code",
   "execution_count": null,
   "metadata": {},
   "outputs": [],
   "source": [
    "colors = ['purple', 'blue', 'red']\n",
    "\n",
    "from mobilechelonian import Turtle\n",
    "t = Turtle()\n",
    "t.speed(10)\n",
    "\n",
    "for color in colors: # run this loop for each value in the list\n",
    "    t.pencolor(color)\n",
    "    t.forward(50)"
   ]
  },
  {
   "cell_type": "markdown",
   "metadata": {},
   "source": [
    "What if we want to use a list for turtle moves?"
   ]
  },
  {
   "cell_type": "code",
   "execution_count": null,
   "metadata": {},
   "outputs": [],
   "source": [
    "turtle_moves = [30, 50, 80]\n",
    "\n",
    "t = Turtle()\n",
    "t.speed(10)\n",
    "for distance in turtle_moves:\n",
    "    t.forward(distance)"
   ]
  },
  {
   "cell_type": "markdown",
   "metadata": {},
   "source": [
    "Combining lists for moves and colors."
   ]
  },
  {
   "cell_type": "code",
   "execution_count": null,
   "metadata": {},
   "outputs": [],
   "source": [
    "colors = ['purple', 'blue', 'red']\n",
    "distances = [60, 80, 100]\n",
    "angles = [90, 144, 127]\n",
    "\n",
    "t = Turtle()\n",
    "t.speed(10)\n",
    "for i in range(3):\n",
    "    t.pencolor(colors[i])\n",
    "    t.forward(distances[i])\n",
    "    t.right(angles[i])"
   ]
  },
  {
   "cell_type": "markdown",
   "metadata": {},
   "source": [
    "Or perhaps a [parallelogram](https://en.wikipedia.org/wiki/Parallelogram)."
   ]
  },
  {
   "cell_type": "code",
   "execution_count": null,
   "metadata": {},
   "outputs": [],
   "source": [
    "angles = [120, 60, 120, 60]\n",
    "distances = [80, 50, 80, 50]\n",
    "\n",
    "number_of_angles = len(angles)\n",
    "\n",
    "t = Turtle()\n",
    "t.speed(10)\n",
    "for i in range(number_of_angles):\n",
    "    t.right(angles[i])\n",
    "    t.forward(distances[i])"
   ]
  },
  {
   "cell_type": "markdown",
   "metadata": {},
   "source": [
    "We can even create a list of lists and then reference parts of it. In this example the `parallelogram` list contains a list of angles and a list of distances."
   ]
  },
  {
   "cell_type": "code",
   "execution_count": null,
   "metadata": {},
   "outputs": [],
   "source": [
    "parallelogram = [[120, 60, 120, 60], [80, 50, 80, 50]]\n",
    "\n",
    "angles = parallelogram[0]\n",
    "distances = parallelogram[1]\n",
    "number_of_angles = len(angles)\n",
    "\n",
    "t = Turtle()\n",
    "t.speed(10)\n",
    "for i in range(number_of_angles):\n",
    "    t.right(angles[i])\n",
    "    t.forward(distances[i])"
   ]
  },
  {
   "cell_type": "markdown",
   "metadata": {},
   "source": [
    "Another way of using nested lists, each list with the `parallelogram` list contains an angle and a distance."
   ]
  },
  {
   "cell_type": "code",
   "execution_count": null,
   "metadata": {},
   "outputs": [],
   "source": [
    "parallelogram = [[120,80], [60,50], [120,80], [60,50]]\n",
    "\n",
    "t = Turtle()\n",
    "t.speed(10)\n",
    "for i in range(len(parallelogram)):\n",
    "    t.right(parallelogram[i][0])\n",
    "    t.forward(parallelogram[i][1])"
   ]
  },
  {
   "cell_type": "markdown",
   "metadata": {},
   "source": [
    "If we want to identify values by name ([key](https://wiki.python.org/moin/DictionaryKeys)) then we can use a data structure called a [dictionary](https://docs.python.org/3/tutorial/datastructures.html#dictionaries).\n",
    "\n",
    "Notice the use of curly brackets rather than square brackets."
   ]
  },
  {
   "cell_type": "code",
   "execution_count": null,
   "metadata": {},
   "outputs": [],
   "source": [
    "move_one = {'angle':120, 'distance':80}\n",
    "t = Turtle()\n",
    "t.speed(10)\n",
    "\n",
    "t.right(move_one['angle'])\n",
    "t.forward(move_one['distance'])"
   ]
  },
  {
   "cell_type": "markdown",
   "metadata": {},
   "source": [
    "Here is another way of reading from a dictionary. We are also introducing the key `color`."
   ]
  },
  {
   "cell_type": "code",
   "execution_count": null,
   "metadata": {},
   "outputs": [],
   "source": [
    "move_one = {'color':'red', 'angle':120, 'distance':80}\n",
    "t = Turtle()\n",
    "t.speed(10)\n",
    "\n",
    "for key, value in move_one.items():\n",
    "    if key == 'color':\n",
    "        t.pencolor(value)\n",
    "    if key == 'angle':\n",
    "        t.right(value)\n",
    "    if key == 'distance':\n",
    "        t.forward(value)"
   ]
  },
  {
   "cell_type": "markdown",
   "metadata": {},
   "source": [
    "To be able to use that code for multiple dictionaries, let's define it as a function."
   ]
  },
  {
   "cell_type": "code",
   "execution_count": null,
   "metadata": {},
   "outputs": [],
   "source": [
    "def turtle_move(move_dictionary):\n",
    "    for key, value in move_dictionary.items():\n",
    "        if key == 'color':\n",
    "            t.pencolor(value)\n",
    "        if key == 'angle':\n",
    "            t.right(value)\n",
    "        if key == 'distance':\n",
    "            t.forward(value)\n",
    "print('Function defined, now you can call it with  turtle_move(move_dictionary)')"
   ]
  },
  {
   "cell_type": "code",
   "execution_count": null,
   "metadata": {},
   "outputs": [],
   "source": [
    "t = Turtle()\n",
    "t.speed(10)\n",
    "turtle_move({'color':'red', 'angle':120, 'distance':80})"
   ]
  },
  {
   "cell_type": "markdown",
   "metadata": {},
   "source": [
    "How about we create a list of dictionaries. Notice that it can extent to multiple lines if we have a new line after a bracket or comma. The list still starts and ends with a square bracket."
   ]
  },
  {
   "cell_type": "code",
   "execution_count": null,
   "metadata": {},
   "outputs": [],
   "source": [
    "list_of_moves = [\n",
    "    {'color':'red', 'angle':120, 'distance':80},\n",
    "    {'color':'green', 'angle':60, 'distance':50},\n",
    "    {'color':'blue', 'angle':120, 'distance':80},\n",
    "    {'color':'yellow', 'angle':60, 'distance':50},\n",
    "    ]\n",
    "\n",
    "t = Turtle()\n",
    "t.speed(10)\n",
    "\n",
    "for move in list_of_moves:\n",
    "    turtle_move(move)"
   ]
  },
  {
   "cell_type": "markdown",
   "metadata": {},
   "source": [
    "Each of the dictionaries doesn't need to have each of the keys."
   ]
  },
  {
   "cell_type": "code",
   "execution_count": null,
   "metadata": {},
   "outputs": [],
   "source": [
    "list_of_moves = [\n",
    "    {'angle':120},\n",
    "    {'color':'red', 'distance':80},\n",
    "    {'color':'green'},\n",
    "    {'angle':60, 'distance':50},\n",
    "    {'color':'blue', 'angle':120, 'distance':80},\n",
    "    {'color':'yellow', 'angle':60, 'distance':50},\n",
    "    {'color':'black'},\n",
    "    {'distance':100}\n",
    "    ]\n",
    "\n",
    "t = Turtle()\n",
    "t.speed(10)\n",
    "\n",
    "for move in list_of_moves:\n",
    "    turtle_move(move)"
   ]
  },
  {
   "cell_type": "code",
   "execution_count": null,
   "metadata": {},
   "outputs": [],
   "source": []
  },
  {
   "cell_type": "markdown",
   "metadata": {},
   "source": [
    "[![Callysto.ca License](https://github.com/callysto/curriculum-notebooks/blob/master/callysto-notebook-banner-bottom.jpg?raw=true)](https://github.com/callysto/curriculum-notebooks/blob/master/LICENSE.md)"
   ]
  }
 ],
 "metadata": {
  "kernelspec": {
   "display_name": "Python 3",
   "language": "python",
   "name": "python3"
  },
  "language_info": {
   "codemirror_mode": {
    "name": "ipython",
    "version": 3
   },
   "file_extension": ".py",
   "mimetype": "text/x-python",
   "name": "python",
   "nbconvert_exporter": "python",
   "pygments_lexer": "ipython3",
   "version": "3.7.3"
  },
  "nbTranslate": {
   "displayLangs": [
    "*"
   ],
   "hotkey": "alt-t",
   "langInMainMenu": true,
   "sourceLang": "en",
   "targetLang": "fr",
   "useGoogleTranslate": true
  }
 },
 "nbformat": 4,
 "nbformat_minor": 2
}
