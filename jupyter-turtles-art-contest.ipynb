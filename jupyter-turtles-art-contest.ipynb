{
 "cells": [
  {
   "cell_type": "markdown",
   "metadata": {},
   "source": [
    "![Callysto.ca Banner](https://github.com/callysto/curriculum-notebooks/blob/master/callysto-notebook-banner-top.jpg?raw=true)"
   ]
  },
  {
   "cell_type": "markdown",
   "metadata": {},
   "source": [
    "# Callysto Turtle Art Contest\n",
    "\n",
    "blah blah blah enter this contest\n",
    "\n",
    "prizes and stuff\n",
    "\n",
    "social media something\n",
    "\n",
    "this is a Jupyter notebook, Python is a programming language"
   ]
  },
  {
   "cell_type": "markdown",
   "metadata": {},
   "source": [
    "## Get Started\n",
    "\n",
    "To create turtle art, we need to import the turtle drawing library `mobilechelonian` and name our turtle, for example `leo = Turtle()`. Select the cell below this one, then click the `▶Run` button in the toolbar to make your turtle go."
   ]
  },
  {
   "cell_type": "code",
   "execution_count": 3,
   "metadata": {},
   "outputs": [
    {
     "data": {
      "application/vnd.jupyter.widget-view+json": {
       "model_id": "4a618b7e91d7489b9ba7ab787e3726b7",
       "version_major": 2,
       "version_minor": 0
      },
      "text/plain": [
       "Turtle()"
      ]
     },
     "metadata": {},
     "output_type": "display_data"
    }
   ],
   "source": [
    "from mobilechelonian import Turtle\n",
    "leo = Turtle()\n",
    "leo.speed(10)  # 10 is the maximum speed\n",
    "\n",
    "# this code will draw a square\n",
    "leo.forward(100)\n",
    "leo.right(90)\n",
    "leo.forward(100)\n",
    "leo.right(90)\n",
    "leo.forward(100)\n",
    "leo.right(90)\n",
    "leo.forward(100)"
   ]
  },
  {
   "cell_type": "markdown",
   "metadata": {},
   "source": [
    "# Turtle Commands\n",
    "\n",
    "The possible commands for your turle are:\n",
    "\n",
    "`leo.speed(integer)`\n",
    "* Speed of your turtle, 1-10 (hint set your speed to 10) \n",
    "\n",
    "`leo.right(degrees)` or `leo.left(degrees)`\n",
    "* Turn turtle left or right by some degrees\n",
    "\n",
    "`leo.forward(units)` or `leo.backward(units)`\n",
    "* Move your turtle forward or backward (units are in pixels) \n",
    "\n",
    "`leo.pendown()` or `leo.penup()`\n",
    "* For drawing lines or not drawing lines\n",
    "\n",
    "`leo.pencolor('color')`\n",
    "* [Color](https://www.w3schools.com/tags/ref_colornames.asp) of your turtle’s line, e.g. 'blue' or 'rgb(100, 0, 255)'\n",
    "\n",
    "`leo.circle(r, degrees)`\n",
    "* Have turtle draw a piece of a circle of radius r, through some number of degrees \n",
    "\n",
    "For more information and examples, check out [this notebook](https://github.com/callysto/TMTeachingTurtles/blob/master/TMPythonTurtles/turtles-and-python-intro-instructor.ipynb)."
   ]
  },
  {
   "cell_type": "markdown",
   "metadata": {},
   "source": [
    "## Draw Your Turtle Art Here"
   ]
  },
  {
   "cell_type": "code",
   "execution_count": null,
   "metadata": {},
   "outputs": [],
   "source": [
    "from mobilechelonian import Turtle\n",
    "leo = Turtle()\n",
    "leo.speed(10)\n",
    "\n"
   ]
  },
  {
   "cell_type": "markdown",
   "metadata": {},
   "source": [
    "## Submit Your Art\n",
    "\n",
    "Right-click your turtle art to save the image. Then go to [this link](https://formlink) to enter the contest."
   ]
  },
  {
   "cell_type": "markdown",
   "metadata": {},
   "source": [
    "[![Callysto.ca License](https://github.com/callysto/curriculum-notebooks/blob/master/callysto-notebook-banner-bottom.jpg?raw=true)](https://github.com/callysto/curriculum-notebooks/blob/master/LICENSE.md)"
   ]
  }
 ],
 "metadata": {
  "kernelspec": {
   "display_name": "Python 3",
   "language": "python",
   "name": "python3"
  },
  "language_info": {
   "codemirror_mode": {
    "name": "ipython",
    "version": 3
   },
   "file_extension": ".py",
   "mimetype": "text/x-python",
   "name": "python",
   "nbconvert_exporter": "python",
   "pygments_lexer": "ipython3",
   "version": "3.7.3"
  }
 },
 "nbformat": 4,
 "nbformat_minor": 2
}
