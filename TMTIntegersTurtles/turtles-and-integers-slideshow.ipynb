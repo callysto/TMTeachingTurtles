{
 "cells": [
  {
   "cell_type": "markdown",
   "metadata": {
    "slideshow": {
     "slide_type": "skip"
    }
   },
   "source": [
    "![Callysto.ca Banner](https://github.com/callysto/curriculum-notebooks/blob/master/callysto-notebook-banner-top.jpg?raw=true)\n",
    "\n",
    "<a href=\"https://hub.callysto.ca/jupyter/hub/user-redirect/git-pull?repo=https%3A%2F%2Fgithub.com%2Fcallysto%2Ftmteachingturtles&branch=master&subPath=TMPythonTurtles/turtles-and-python-intro-student.ipynb&depth=1\" target=\"_parent\"><img src=\"https://raw.githubusercontent.com/callysto/curriculum-notebooks/master/open-in-callysto-button.svg?sanitize=true\" width=\"123\" height=\"24\" alt=\"Open in Callysto\"/></a>"
   ]
  },
  {
   "cell_type": "markdown",
   "metadata": {
    "slideshow": {
     "slide_type": "slide"
    }
   },
   "source": [
    "\n",
    "\n",
    "<h1 align='center'>Python and Integers</h1>\n",
    "\n",
    "<center><img src=\"https://media3.giphy.com/media/rbRlURYMrUNfG/giphy.gif\" alt=\"Drawing\" style=\"width: 500px;\"/></center>\n",
    "\n",
    "<h4 align='center'>With Laura Gutierrez Funderburk & Bryce Haley</h4>"
   ]
  },
  {
   "cell_type": "markdown",
   "metadata": {
    "slideshow": {
     "slide_type": "slide"
    }
   },
   "source": [
    "## Introductions\n",
    "\n",
    "\n",
    "<center><img src=\"https://media1.giphy.com/media/j1soPQE95y0eXhMwKT/source.gif\" alt=\"Drawing\" style=\"width: 300px;\"/></center>\n",
    "\n",
    "We'll tell you a bit about ourselves. \n",
    "\n",
    "We want to learn about you too! \n",
    "\n",
    "Tell us: have you programmed before?\n"
   ]
  },
  {
   "cell_type": "markdown",
   "metadata": {
    "slideshow": {
     "slide_type": "slide"
    }
   },
   "source": [
    "## About Hidden Figures\n",
    "\n",
    "* Placed during the United States' race against Russia to put a man in space.\n",
    "\n",
    "* NASA found untapped talent in a group of African-American female mathematicians (job title \"human computers\").\n",
    "\n",
    "* Based on the true life stories of: Dorothy Vaughan, Mary Jackson, and Katherine Gobels Johnson. \n",
    "\n",
    "* Focus: challenges they faced as women of colour working for NASA, and how their work earned them recognition. "
   ]
  },
  {
   "cell_type": "markdown",
   "metadata": {
    "slideshow": {
     "slide_type": "slide"
    }
   },
   "source": [
    "## About Hidden Figures\n",
    "\n",
    "\n",
    "In the book [Hidden Figures](https://en.wikipedia.org/wiki/Hidden_Figures_(book)) (later turned into a movie) one of concepts explored is [Euler's method](https://en.wikipedia.org/wiki/Euler_method). \n",
    "\n",
    "In the book, Katherine Johnson uses this method to find the trajectory for the space capsule to land safely on earth. \n",
    "\n",
    "\n"
   ]
  },
  {
   "cell_type": "code",
   "execution_count": null,
   "metadata": {
    "slideshow": {
     "slide_type": "fragment"
    }
   },
   "outputs": [],
   "source": [
    "from IPython.lib.display import YouTubeVideo\n",
    "YouTubeVideo('v-pbGAts_Fg', width=900, height=400)"
   ]
  },
  {
   "cell_type": "markdown",
   "metadata": {
    "slideshow": {
     "slide_type": "slide"
    }
   },
   "source": [
    "\n",
    "## What is the key concept?\n",
    "\n",
    "\n",
    "Katherine observes that the equations of motion for the space capsule are too complicated to solve exactly (i.e. find a solution to the equations), and instead she approaches the problem numerically.\n",
    "\n",
    "We can think of the position of the capsule as a moving point on the $x,y$ plane. \n",
    "\n",
    "\n",
    "<center><img src=\"https://www.mathwarehouse.com/transformations/images/reflections/reflect-point-over-x-axis-animated-gif-highlight.gif\" alt=\"Drawing\" style=\"width: 500px;\"/></center>"
   ]
  },
  {
   "cell_type": "markdown",
   "metadata": {
    "slideshow": {
     "slide_type": "slide"
    }
   },
   "source": [
    "## How does it work?\n",
    "\n",
    "\n",
    "Initial values for $x,y$ are provided. This is our starting point.\n",
    "\n",
    "We can then update its current position to a future time (say one minute later) by a formula such as:\n",
    "\n",
    "$$x \\leftarrow  x + f(x,y)$$\n",
    "$$y \\leftarrow   y + g(x,y)$$\n",
    "\n",
    "The above is known as an \"update formula\". "
   ]
  },
  {
   "cell_type": "markdown",
   "metadata": {
    "slideshow": {
     "slide_type": "subslide"
    }
   },
   "source": [
    "## Example\n",
    "\n",
    "\n",
    "<center><img src=\"https://www.mathwarehouse.com/transformations/images/reflections/reflect-point-over-x-axis-animated-gif-highlight.gif\" alt=\"Drawing\" style=\"width: 300px;\"/></center>\n",
    "\n",
    "In the gif above, we can set the initial values:\n",
    "\n",
    "$$x = 2$$\n",
    "$$y=4$$\n",
    "\n",
    "and the update formula for the next step as:\n",
    "\n",
    "$$x \\leftarrow x + 0$$\n",
    "$$y \\leftarrow y - 8$$"
   ]
  },
  {
   "cell_type": "markdown",
   "metadata": {
    "slideshow": {
     "slide_type": "slide"
    }
   },
   "source": [
    "## Can we apply this method to a simpler situation? \n",
    "\n",
    "We saw on the video the set of equations they were attempting to solve to model the capsule was quite complex. \n",
    "\n",
    "We will apply Euler's method to the notion of \"projectile motion\".\n",
    "\n",
    "<center><img src=\"https://www.grc.nasa.gov/www/k-12/rocket/Images/rktflight.gif\" alt=\"Drawing\" style=\"width: 600px;\"/></center>\n",
    "\n",
    "Image source: https://www.grc.nasa.gov/www/k-12/VirtualAero/BottleRocket/airplane/rktflight.html"
   ]
  },
  {
   "cell_type": "markdown",
   "metadata": {
    "slideshow": {
     "slide_type": "slide"
    }
   },
   "source": [
    "## Can we apply this method to a simpler situation? \n",
    "\n",
    "Projectile motion can be modelled using a parabola (U-like shape).\n",
    "\n",
    "\n",
    "<center><img src=\"https://tutorial.math.lamar.edu/classes/alg/Parabolas_Files/image006.png\" alt=\"Drawing\" style=\"width: 600px;\"/></center>\n",
    "\n",
    "\n"
   ]
  },
  {
   "cell_type": "markdown",
   "metadata": {
    "slideshow": {
     "slide_type": "slide"
    }
   },
   "source": [
    "## Example: Iterating over values one at a time\n",
    "\n",
    "Suppose initially both $x=1, y=1$. And suppose we set \n",
    "\n",
    "$$x \\leftarrow x+ y$$ \n",
    "\n",
    "$$y  \\leftarrow y+2$$\n",
    "\n",
    "Let's update six times. \n",
    "\n",
    "Let's work through this exercise by hand first. \n",
    "\n",
    "We will then use Python to verify our results. \n",
    "\n"
   ]
  },
  {
   "cell_type": "code",
   "execution_count": null,
   "metadata": {
    "slideshow": {
     "slide_type": "subslide"
    }
   },
   "outputs": [],
   "source": [
    "# Initialize\n",
    "x = 1\n",
    "y = 1\n",
    "print(x,y)\n",
    "# Iteration I\n",
    "x = x + y \n",
    "y = y + 2\n",
    "print(x,y)\n",
    "# Iteration II\n",
    "x = x + y \n",
    "y = y + 2\n",
    "print(x,y)"
   ]
  },
  {
   "cell_type": "code",
   "execution_count": null,
   "metadata": {
    "slideshow": {
     "slide_type": "subslide"
    }
   },
   "outputs": [],
   "source": [
    "# Iteration III\n",
    "x = x + y \n",
    "y = y + 2\n",
    "print(x,y)\n",
    "# Iteration IV\n",
    "x = x + y \n",
    "y = y + 2\n",
    "print(x,y)\n",
    "# Iteration V\n",
    "x = x + y \n",
    "y = y + 2\n",
    "print(x,y)\n",
    "# Iteration VI\n",
    "x = x + y \n",
    "y = y + 2\n",
    "print(x,y)"
   ]
  },
  {
   "cell_type": "markdown",
   "metadata": {
    "slideshow": {
     "slide_type": "slide"
    }
   },
   "source": [
    "## Example: Iterating over values using a \"for-loop\"\n",
    "\n",
    "This approach was repetitive and time-consuming. What if we had to repeat 100 times? \n",
    "\n",
    "Using Python we can generate results using a \"for-loop\". This is a set of instructions with the following format:\n",
    "\n",
    "    for <iterator> in <list>:\n",
    "        <do something to iterator>\n",
    "   \n",
    "\n",
    "Let's re-try our example. "
   ]
  },
  {
   "cell_type": "code",
   "execution_count": null,
   "metadata": {
    "slideshow": {
     "slide_type": "subslide"
    }
   },
   "outputs": [],
   "source": [
    "# Initializing\n",
    "x_val,y_val = [],[]\n",
    "x = 1\n",
    "y = 1\n",
    "\n",
    "print(\"x\",\"y\")\n",
    "print(\"-\",\"-\")\n",
    "for i in range(9):\n",
    "    print(x,y)\n",
    "    x_val.append(x)\n",
    "    y_val.append(y)\n",
    "    # Apply update formula\n",
    "    x = x + y \n",
    "    y = y + 2\n",
    "    "
   ]
  },
  {
   "cell_type": "markdown",
   "metadata": {
    "slideshow": {
     "slide_type": "slide"
    }
   },
   "source": [
    "## Let's visualize the points on the $x,y$ plane"
   ]
  },
  {
   "cell_type": "code",
   "execution_count": null,
   "metadata": {
    "slideshow": {
     "slide_type": "fragment"
    }
   },
   "outputs": [],
   "source": [
    "import matplotlib.pyplot as plt\n",
    "fig = plt.figure(figsize=(15,6))\n",
    "plt.plot(x_val,y_val)\n",
    "plt.grid(True)\n",
    "plt.title(\"Projectile\",fontsize=20)\n",
    "plt.show()"
   ]
  },
  {
   "cell_type": "markdown",
   "metadata": {
    "slideshow": {
     "slide_type": "slide"
    }
   },
   "source": [
    "# Python Turtles\n",
    "\n",
    "We are going to introduce some Python programming using Turtles. \n",
    "\n",
    "We will use them as a fun way to learn about Python programming and Jupyter notebooks.\n",
    "\n",
    "The Turtle, much like the way Katherine solved the problem for the capsule, can be thought of as a particle moving on the x,y plane. \n",
    "\n",
    "\n",
    "Let's try it out!"
   ]
  },
  {
   "cell_type": "code",
   "execution_count": null,
   "metadata": {
    "slideshow": {
     "slide_type": "subslide"
    }
   },
   "outputs": [],
   "source": [
    "from mobilechelonian import Turtle\n",
    "colors = ['white', 'blue', 'red']\n",
    "t = Turtle()\n",
    "t.speed(1)\n",
    "t.left(90)\n",
    "for i in range(17):\n",
    "    t.pencolor(colors[i%3])\n",
    "    t.forward(18)\n",
    "    t.right(11)"
   ]
  },
  {
   "cell_type": "markdown",
   "metadata": {
    "slideshow": {
     "slide_type": "slide"
    }
   },
   "source": [
    "## Generating complex patterns from simple ones\n",
    "\n",
    "Suppose we are tasked with generating the following image. \n",
    "\n",
    "\n",
    "<center><img src=\"images/turtle-flower.png\" alt=\"Drawing\" style=\"width: 500px;\"/></center>\n",
    "\n",
    "Attempting to recreate it seems daunting, but we can apply a similar approach, using an initial state and an update function. \n"
   ]
  },
  {
   "cell_type": "markdown",
   "metadata": {
    "slideshow": {
     "slide_type": "subslide"
    }
   },
   "source": [
    "### What patterns can we identify?\n",
    "\n",
    "Take a look at the image and see if you can find a pattern in the colours and shapes used.\n",
    "\n",
    "<center><img src=\"images/turtle-flower.png\" alt=\"Drawing\" style=\"width: 400px;\"/></center>\n",
    "\n",
    "Answer in the chat: what do you notice in this image."
   ]
  },
  {
   "cell_type": "markdown",
   "metadata": {
    "slideshow": {
     "slide_type": "skip"
    }
   },
   "source": [
    "## Turtle Commands\n",
    "\n",
    "Assuming that your turtle is named `t`, here are the possible commands you can use.\n",
    "\n",
    "`t.speed(integer)`\n",
    "* Speed of your turtle, 1-10 (hint set your speed to 10) \n",
    "\n",
    "`t.right(degrees)` or `t.left(degrees)`\n",
    "* Turn turtle left or right by some degrees\n",
    "\n",
    "`t.forward(units)` or `t.backward(units)`\n",
    "* Move your turtle forward or backward (units are in pixels) \n",
    "\n",
    "`t.pendown()` or `t.penup()`\n",
    "* For drawing lines or not drawing lines\n",
    "\n",
    "`t.pencolor('color')`\n",
    "* [Color](https://www.w3schools.com/tags/ref_colornames.asp) of your turtle’s line, e.g. 'blue' or 'rgb(100, 0, 255)'\n",
    "\n",
    "`t.setposition(x, y)`\n",
    "* Move the turtle to a specific position. (0,0) is the top left and (400, 400) is the bottom right.\n",
    "\n",
    "`t.circle(r, degrees)`\n",
    "* Have turtle draw a piece of a circle of radius r, through some number of degrees \n",
    "\n",
    "For more information and some inspiration, check out [this resource](https://github.com/callysto/TMTeachingTurtles/blob/master/TMPythonTurtles/turtles-and-python-intro-instructor.ipynb) and [example](https://github.com/callysto/TMTeachingTurtles/blob/jupyter-turtles-art-contest/turtles-cool-art-demo.ipynb)."
   ]
  },
  {
   "cell_type": "markdown",
   "metadata": {
    "slideshow": {
     "slide_type": "slide"
    }
   },
   "source": [
    "## What patterns can we identify?\n",
    "\n",
    "We will start by setting our base shape to be a square. \n",
    "\n",
    "How can we get our Turtle to move on the x,y plane to generate a square? \n",
    "\n",
    "#### Clue 1: How many sides does a square have?\n",
    "\n",
    "#### Clue 2: How many degrees are there in a circle?\n",
    "\n",
    "#### Clue 3: What is the main characteristic of a square?"
   ]
  },
  {
   "cell_type": "markdown",
   "metadata": {
    "slideshow": {
     "slide_type": "subslide"
    }
   },
   "source": [
    "### Let's start by drawing a box efficiently with a `for` loop\n",
    "\n",
    "#### Clue 1: How many sides does a square have? \n",
    "##### Answer: 4\n",
    "\n",
    "#### Clue 2: How many degrees are there in a circle?\n",
    "##### Answer: 360\n",
    "\n",
    "#### Clue 3: What is the main characteristic of a square?\n",
    "##### Answer: All sides have the same length"
   ]
  },
  {
   "cell_type": "code",
   "execution_count": null,
   "metadata": {
    "slideshow": {
     "slide_type": "subslide"
    }
   },
   "outputs": [],
   "source": [
    "t = Turtle()\n",
    "t.speed(10)\n",
    "\n",
    "for i in range(4): \n",
    "    t.forward(100) \n",
    "    t.right(360/4) "
   ]
  },
  {
   "cell_type": "markdown",
   "metadata": {
    "slideshow": {
     "slide_type": "slide"
    }
   },
   "source": [
    "### Let's draw a box with a function"
   ]
  },
  {
   "cell_type": "code",
   "execution_count": null,
   "metadata": {
    "slideshow": {
     "slide_type": "fragment"
    }
   },
   "outputs": [],
   "source": [
    "t = Turtle()\n",
    "t.speed(10)\n",
    "\n",
    "def box(number_sides,units): \n",
    "    for i in range(number_sides):  \n",
    "        t.forward(units)\n",
    "        t.right(360/number_sides) \n",
    "        \n",
    "box(4,100)"
   ]
  },
  {
   "cell_type": "markdown",
   "metadata": {
    "slideshow": {
     "slide_type": "slide"
    }
   },
   "source": [
    "### Now let's draw a flower with `def` and `for` loops\n",
    "\n",
    "Once we have generated the initial state, we need to \"update\" the turtle to start a new square. \n"
   ]
  },
  {
   "cell_type": "code",
   "execution_count": null,
   "metadata": {
    "slideshow": {
     "slide_type": "subslide"
    }
   },
   "outputs": [],
   "source": [
    "t = Turtle()\n",
    "t.speed(100)\n",
    "\n",
    "def box(number_sides,units):\n",
    "    for i in range(number_sides): \n",
    "        t.forward(units)\n",
    "        t.right(360/number_sides)\n",
    "\n",
    "for i in range(18): \n",
    "    box(4,100) \n",
    "    t.right(20)"
   ]
  },
  {
   "cell_type": "code",
   "execution_count": null,
   "metadata": {
    "slideshow": {
     "slide_type": "skip"
    }
   },
   "outputs": [],
   "source": [
    "18*20"
   ]
  },
  {
   "cell_type": "markdown",
   "metadata": {
    "slideshow": {
     "slide_type": "slide"
    }
   },
   "source": [
    "### Now let's add colours to our flower using a `list`\n",
    "\n",
    "<center><img src=\"images/turtle-flower.png\" alt=\"Drawing\" style=\"width: 300px;\"/></center>\n",
    "\n",
    "We are getting close, now we need to color the shape! We see there are three possible colors for the squares: red, blue and purple. \n",
    "\n"
   ]
  },
  {
   "cell_type": "markdown",
   "metadata": {
    "slideshow": {
     "slide_type": "subslide"
    }
   },
   "source": [
    "Let's suppose our turtle starts with red. \n",
    "\n",
    "If we were to encode the nth square and its colour, we would have:\n",
    "\n",
    "| Square number | Color|\n",
    "|-|-|\n",
    "|1|red|\n",
    "|2|blue|\n",
    "|3|purple|\n",
    "|4|red|\n",
    "|5|blue|\n",
    "|6|purple|\n",
    "|...|...|\n",
    "|n-2|red|\n",
    "|n-1|blue|\n",
    "|n|purple|"
   ]
  },
  {
   "cell_type": "markdown",
   "metadata": {
    "slideshow": {
     "slide_type": "slide"
    }
   },
   "source": [
    "## Using Python we can store colour names in a list\n",
    "\n",
    "Lists contain <b>ordered</b> elements. We can access elements in a list by using \"indexing\". Indeces indicate the position of the element in the list (from left to right). In Python we start our indeces from 0. "
   ]
  },
  {
   "cell_type": "code",
   "execution_count": null,
   "metadata": {
    "slideshow": {
     "slide_type": "fragment"
    }
   },
   "outputs": [],
   "source": [
    "# 0 1 2 \n",
    "colours = [\"red\", \"blue\", \"purple\"] \n",
    "colours[2] "
   ]
  },
  {
   "cell_type": "markdown",
   "metadata": {
    "slideshow": {
     "slide_type": "slide"
    }
   },
   "source": [
    "## Using a for loop to compute the pattern red-blue-purple"
   ]
  },
  {
   "cell_type": "code",
   "execution_count": null,
   "metadata": {
    "slideshow": {
     "slide_type": "fragment"
    }
   },
   "outputs": [],
   "source": [
    "#let's print what this looks like.\n",
    "for i in range(18): \n",
    "    print(i, colours[i % 3], i % 3) "
   ]
  },
  {
   "cell_type": "markdown",
   "metadata": {
    "slideshow": {
     "slide_type": "slide"
    }
   },
   "source": [
    "## Bringing it all together"
   ]
  },
  {
   "cell_type": "code",
   "execution_count": null,
   "metadata": {
    "slideshow": {
     "slide_type": "fragment"
    }
   },
   "outputs": [],
   "source": [
    "#now let's put it all together\n",
    "from mobilechelonian import Turtle\n",
    "t = Turtle()\n",
    "t.speed(10)\n",
    "\n",
    "def box(number_sides,units): \n",
    "    for i in range(number_sides): \n",
    "        t.forward(units)\n",
    "        t.right(360/number_sides)\n",
    "\n",
    "colours = [\"red\", \"blue\", \"purple\"] \n",
    "for i in range(18):\n",
    "    t.pencolor(colours[i % 3]) \n",
    "    box(4,100)\n",
    "    t.right(20)"
   ]
  },
  {
   "cell_type": "markdown",
   "metadata": {
    "slideshow": {
     "slide_type": "slide"
    }
   },
   "source": [
    "## Bonus Challenge: Play with the code to generate other regular polygons"
   ]
  },
  {
   "cell_type": "markdown",
   "metadata": {
    "slideshow": {
     "slide_type": "slide"
    }
   },
   "source": [
    "## Final remarks on Hidden Figures\n",
    "\n",
    "\n",
    "\n",
    "<center><img src=\"https://media2.giphy.com/media/4QrrrASSn1sTm/source.gifhttps://media2.giphy.com/media/4QrrrASSn1sTm/source.gif\" alt=\"Drawing\" style=\"width: 500px;\"/></center>\n",
    "\n"
   ]
  },
  {
   "cell_type": "markdown",
   "metadata": {
    "slideshow": {
     "slide_type": "subslide"
    }
   },
   "source": [
    "## Mary Jackson\n",
    "\n",
    "Mathematicians are ultimately replaced by electronic computers.\n",
    "\n",
    "However, Mary obtained her engineering degree and became NASA's first female African-American engineer.\n",
    "\n"
   ]
  },
  {
   "cell_type": "markdown",
   "metadata": {
    "slideshow": {
     "slide_type": "subslide"
    }
   },
   "source": [
    "##  Dorothy Vaughan\n",
    "\n",
    "* Dorothy learned NASA has installed an IBM 7090 electronic computer that threatens to replace human computers.\n",
    "\n",
    "* Dorothy stole a book about Fortran and taught herself and her West Area co-workers programming.\n",
    "\n",
    "* She visited the computer room and successfully started the machine, and was promoted to supervise the Programming Department.\n",
    "\n",
    "* She accepted only on the condition that thirty of her co-workers are transferred as well. \n",
    "\n",
    "* Dorothy continued as NASA's first African-American supervisor.\n"
   ]
  },
  {
   "cell_type": "markdown",
   "metadata": {
    "slideshow": {
     "slide_type": "subslide"
    }
   },
   "source": [
    "## Katherine Gobels Johnson\n",
    "\n",
    "* Katherine was accepted by Stafford as a report co-author.\n",
    "\n",
    "* Calculated the trajectories for the Apollo 11 and Space Shuttle missions. \n",
    "\n",
    "* In 2015, she was awarded the Presidential Medal of Freedom. \n",
    "\n",
    "* In 2016, NASA dedicated the Langley Research Center's Katherine Johnson Computational Building in her honor.\n",
    "\n"
   ]
  },
  {
   "cell_type": "markdown",
   "metadata": {
    "slideshow": {
     "slide_type": "slide"
    }
   },
   "source": [
    "\n",
    "\n",
    "## Final remarks on python \n",
    "\n",
    "You've successfully programmed your turtle! You can take what you learned here to jump-start your path towards programming. \n",
    "\n",
    "\n",
    "\n",
    "If you are interested in learning more about Python with turtles, try [Turtles and Dictionaries](../TMDictionaryTurtles/turtles-and-dictionaries-student.ipynb)\n",
    "\n",
    "[![Callysto.ca License](https://github.com/callysto/curriculum-notebooks/blob/master/callysto-notebook-banner-bottom.jpg?raw=true)](https://github.com/callysto/curriculum-notebooks/blob/master/LICENSE.md)"
   ]
  }
 ],
 "metadata": {
  "celltoolbar": "Slideshow",
  "kernelspec": {
   "display_name": "Python 3",
   "language": "python",
   "name": "python3"
  },
  "language_info": {
   "codemirror_mode": {
    "name": "ipython",
    "version": 3
   },
   "file_extension": ".py",
   "mimetype": "text/x-python",
   "name": "python",
   "nbconvert_exporter": "python",
   "pygments_lexer": "ipython3",
   "version": "3.8.6"
  },
  "rise": {
   "autolaunch": false,
   "backimage": "Bgnd0.jpg",
   "enable_chalkboard": true
  }
 },
 "nbformat": 4,
 "nbformat_minor": 2
}
